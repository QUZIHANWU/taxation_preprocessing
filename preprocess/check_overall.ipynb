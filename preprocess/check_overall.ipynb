{
 "cells": [
  {
   "cell_type": "code",
   "execution_count": 1,
   "metadata": {},
   "outputs": [],
   "source": [
    "# import modules\n",
    "\n",
    "import pandas as pd\n",
    "import numpy as np\n",
    "import seaborn as sns\n",
    "import matplotlib.pyplot as plt"
   ]
  },
  {
   "cell_type": "code",
   "execution_count": 2,
   "metadata": {},
   "outputs": [],
   "source": [
    "data_2010 = pd.read_excel('/Users/quzihanwu/Desktop/Preprocessing_copy_by_Martin/data/processed/2010_final_data.xlsx')\n",
    "data_2011 = pd.read_excel('/Users/quzihanwu/Desktop/Preprocessing_copy_by_Martin/data/processed/2011_final_data.xlsx')\n",
    "data_2012 = pd.read_excel('/Users/quzihanwu/Desktop/Preprocessing_copy_by_Martin/data/processed/2012_final_data.xlsx')\n",
    "data_2013 = pd.read_excel('/Users/quzihanwu/Desktop/Preprocessing_copy_by_Martin/data/processed/2013_final_data.xlsx')\n",
    "data_2014 = pd.read_excel('/Users/quzihanwu/Desktop/Preprocessing_copy_by_Martin/data/processed/2014_final_data.xlsx')\n",
    "data_2015 = pd.read_excel('/Users/quzihanwu/Desktop/Preprocessing_copy_by_Martin/data/processed/2015_final_data.xlsx')\n",
    "data_2016 = pd.read_excel('/Users/quzihanwu/Desktop/Preprocessing_copy_by_Martin/data/processed/2016_final_data.xlsx')\n",
    "data_2017 = pd.read_excel('/Users/quzihanwu/Desktop/Preprocessing_copy_by_Martin/data/processed/2017_final_data.xlsx')\n",
    "data_2018 = pd.read_excel('/Users/quzihanwu/Desktop/Preprocessing_copy_by_Martin/data/processed/2018_final_data.xlsx')\n"
   ]
  },
  {
   "cell_type": "code",
   "execution_count": 3,
   "metadata": {},
   "outputs": [
    {
     "data": {
      "text/plain": [
       "Index(['Unnamed: 0', 'index', '代码', '简称', '会计期间', '报表类型', '所得税费用', '截止日期',\n",
       "       '董事长和总经理是否同一人', '统计截止日期', '监管层持股数', '总股数', '证券代码', '证券简称', '递延所得税负债增加',\n",
       "       '递延所得税资产减少', '高管人数', '支付给职工以及为职工支付的现金', '营业收入', '所属申万行业名称', '资产总计',\n",
       "       '独立董事人数', '非独立董事人数', '董事会人数', '管理层年度薪酬总额', '员工总数', '资产负债率', '公司属性',\n",
       "       '大股东持股比例', '公司监事', '净利润', '年末所得税率', '经营活动产生的现金流量净额', 'Symbol',\n",
       "       'Enddate', 'StatisticalCaliber', '未领取薪酬监管层人数', 'check_ST', 'check_*ST',\n",
       "       '人数', '管理层平均工资', '普通员工平均工资', 'lnAMW', 'lnAEW', '收入不平等', 'lnWFI', 'ETR',\n",
       "       'lnSize', 'OCF', 'Lev', 'Growth', 'Top1', 'indepent', 'MH', 'Dual',\n",
       "       '国有判断', 'SOE'],\n",
       "      dtype='object')"
      ]
     },
     "execution_count": 3,
     "metadata": {},
     "output_type": "execute_result"
    }
   ],
   "source": [
    "data_2018.columns"
   ]
  },
  {
   "cell_type": "code",
   "execution_count": 4,
   "metadata": {},
   "outputs": [
    {
     "data": {
      "text/plain": [
       "[12.554328154031136,\n",
       " 12.660682538840655,\n",
       " 12.717972123958715,\n",
       " 12.752284953015456,\n",
       " 12.829230456576424,\n",
       " 12.8813566283615,\n",
       " 12.950544797794084,\n",
       " 13.027655654341926,\n",
       " 13.121709266222854]"
      ]
     },
     "execution_count": 4,
     "metadata": {},
     "output_type": "execute_result"
    }
   ],
   "source": [
    "a = data_2010['lnAMW'].mean()\n",
    "b = data_2011['lnAMW'].mean()\n",
    "c = data_2012['lnAMW'].mean()\n",
    "d = data_2013['lnAMW'].mean()\n",
    "e = data_2014['lnAMW'].mean()\n",
    "f = data_2015['lnAMW'].mean()\n",
    "g = data_2016['lnAMW'].mean()\n",
    "h = data_2017['lnAMW'].mean()\n",
    "i = data_2018['lnAMW'].mean()\n",
    "lnAMW = [a,b,c,d,e,f,g,h,i]\n",
    "lnAMW"
   ]
  },
  {
   "cell_type": "code",
   "execution_count": 5,
   "metadata": {},
   "outputs": [
    {
     "data": {
      "text/plain": [
       "[11.087559255009346,\n",
       " 11.201426881839515,\n",
       " 11.260016526933018,\n",
       " 11.328702604705667,\n",
       " 11.433212566378398,\n",
       " 11.476164800023401,\n",
       " 11.56059115533059,\n",
       " 11.64703198411059,\n",
       " 11.740554140342288]"
      ]
     },
     "execution_count": 5,
     "metadata": {},
     "output_type": "execute_result"
    }
   ],
   "source": [
    "a = data_2010['lnAEW'].mean()\n",
    "b = data_2011['lnAEW'].mean()\n",
    "c = data_2012['lnAEW'].mean()\n",
    "d = data_2013['lnAEW'].mean()\n",
    "e = data_2014['lnAEW'].mean()\n",
    "f = data_2015['lnAEW'].mean()\n",
    "g = data_2016['lnAEW'].mean()\n",
    "h = data_2017['lnAEW'].mean()\n",
    "i = data_2018['lnAEW'].mean()\n",
    "lnAEW = [a,b,c,d,e,f,g,h,i]\n",
    "lnAEW"
   ]
  },
  {
   "cell_type": "code",
   "execution_count": 6,
   "metadata": {},
   "outputs": [
    {
     "data": {
      "text/plain": [
       "[1.4667688990217886,\n",
       " 1.4592556570011401,\n",
       " 1.4579555970256957,\n",
       " 1.4235823483097914,\n",
       " 1.3960178901980267,\n",
       " 1.405191828338098,\n",
       " 1.3899536424634948,\n",
       " 1.380623670231333,\n",
       " 1.3811551258805668]"
      ]
     },
     "execution_count": 6,
     "metadata": {},
     "output_type": "execute_result"
    }
   ],
   "source": [
    "a = data_2010['lnWFI'].mean()\n",
    "b = data_2011['lnWFI'].mean()\n",
    "c = data_2012['lnWFI'].mean()\n",
    "d = data_2013['lnWFI'].mean()\n",
    "e = data_2014['lnWFI'].mean()\n",
    "f = data_2015['lnWFI'].mean()\n",
    "g = data_2016['lnWFI'].mean()\n",
    "h = data_2017['lnWFI'].mean()\n",
    "i = data_2018['lnWFI'].mean()\n",
    "lnWFI = [a,b,c,d,e,f,g,h,i]\n",
    "lnWFI"
   ]
  },
  {
   "cell_type": "code",
   "execution_count": 7,
   "metadata": {},
   "outputs": [
    {
     "data": {
      "text/plain": [
       "[0.17091419079120712,\n",
       " 0.17477023566143995,\n",
       " 0.19547193474921562,\n",
       " 0.1747508788825646,\n",
       " 0.541362294250207,\n",
       " 0.17754382912551964,\n",
       " 0.1572530936524294,\n",
       " 0.10946627392669268,\n",
       " 0.159885480168955]"
      ]
     },
     "execution_count": 7,
     "metadata": {},
     "output_type": "execute_result"
    }
   ],
   "source": [
    "a = data_2010['ETR'].mean()\n",
    "b = data_2011['ETR'].mean()\n",
    "c = data_2012['ETR'].mean()\n",
    "d = data_2013['ETR'].mean()\n",
    "e = data_2014['ETR'].mean()\n",
    "f = data_2015['ETR'].mean()\n",
    "g = data_2016['ETR'].mean()\n",
    "h = data_2017['ETR'].mean()\n",
    "i = data_2018['ETR'].mean()\n",
    "ETR = [a,b,c,d,e,f,g,h,i]\n",
    "ETR"
   ]
  },
  {
   "cell_type": "code",
   "execution_count": 8,
   "metadata": {},
   "outputs": [
    {
     "data": {
      "text/plain": [
       "[22.255713694722047,\n",
       " 22.31600899882315,\n",
       " 22.366235982727403,\n",
       " 22.460078879041202,\n",
       " 22.476609386550734,\n",
       " 22.5396497375694,\n",
       " 22.630645290666855,\n",
       " 22.636244563358325,\n",
       " 22.633402973554198]"
      ]
     },
     "execution_count": 8,
     "metadata": {},
     "output_type": "execute_result"
    }
   ],
   "source": [
    "a = data_2010['lnSize'].mean()\n",
    "b = data_2011['lnSize'].mean()\n",
    "c = data_2012['lnSize'].mean()\n",
    "d = data_2013['lnSize'].mean()\n",
    "e = data_2014['lnSize'].mean()\n",
    "f = data_2015['lnSize'].mean()\n",
    "g = data_2016['lnSize'].mean()\n",
    "h = data_2017['lnSize'].mean()\n",
    "i = data_2018['lnSize'].mean()\n",
    "lnSize = [a,b,c,d,e,f,g,h,i]\n",
    "lnSize"
   ]
  },
  {
   "cell_type": "code",
   "execution_count": 9,
   "metadata": {},
   "outputs": [
    {
     "data": {
      "text/plain": [
       "[0.04139837636783705,\n",
       " 0.025356267072417407,\n",
       " 0.04693467443110067,\n",
       " 0.03661794136272792,\n",
       " 0.03988288002964505,\n",
       " 0.047548191418374484,\n",
       " 0.048512040227149854,\n",
       " 0.03816328670243974,\n",
       " 0.05100068005989121]"
      ]
     },
     "execution_count": 9,
     "metadata": {},
     "output_type": "execute_result"
    }
   ],
   "source": [
    "a = data_2010['OCF'].mean()\n",
    "b = data_2011['OCF'].mean()\n",
    "c = data_2012['OCF'].mean()\n",
    "d = data_2013['OCF'].mean()\n",
    "e = data_2014['OCF'].mean()\n",
    "f = data_2015['OCF'].mean()\n",
    "g = data_2016['OCF'].mean()\n",
    "h = data_2017['OCF'].mean()\n",
    "i = data_2018['OCF'].mean()\n",
    "OCF = [a,b,c,d,e,f,g,h,i]\n",
    "OCF"
   ]
  },
  {
   "cell_type": "code",
   "execution_count": 10,
   "metadata": {},
   "outputs": [
    {
     "data": {
      "text/plain": [
       "[0.4681339125799574,\n",
       " 0.4614599135135135,\n",
       " 0.47265907448494454,\n",
       " 0.4764327078313253,\n",
       " 0.46612338498789346,\n",
       " 0.45279670714985304,\n",
       " 0.43309560432900424,\n",
       " 0.43252285928143713,\n",
       " 0.44322079043423535]"
      ]
     },
     "execution_count": 10,
     "metadata": {},
     "output_type": "execute_result"
    }
   ],
   "source": [
    "a = data_2010['Lev'].mean()\n",
    "b = data_2011['Lev'].mean()\n",
    "c = data_2012['Lev'].mean()\n",
    "d = data_2013['Lev'].mean()\n",
    "e = data_2014['Lev'].mean()\n",
    "f = data_2015['Lev'].mean()\n",
    "g = data_2016['Lev'].mean()\n",
    "h = data_2017['Lev'].mean()\n",
    "i = data_2018['Lev'].mean()\n",
    "Lev = [a,b,c,d,e,f,g,h,i]\n",
    "Lev"
   ]
  },
  {
   "cell_type": "code",
   "execution_count": 11,
   "metadata": {},
   "outputs": [
    {
     "data": {
      "text/plain": [
       "[0.3307978997867803,\n",
       " 0.22435262702702702,\n",
       " 0.1349087432646593,\n",
       " 0.15750922439759038,\n",
       " 0.13295171065375302,\n",
       " 0.17369518707149853,\n",
       " 0.3985762571428571,\n",
       " 0.34129453967065865,\n",
       " 0.21922508432976714]"
      ]
     },
     "execution_count": 11,
     "metadata": {},
     "output_type": "execute_result"
    }
   ],
   "source": [
    "a = data_2010['Growth'].mean()\n",
    "b = data_2011['Growth'].mean()\n",
    "c = data_2012['Growth'].mean()\n",
    "d = data_2013['Growth'].mean()\n",
    "e = data_2014['Growth'].mean()\n",
    "f = data_2015['Growth'].mean()\n",
    "g = data_2016['Growth'].mean()\n",
    "h = data_2017['Growth'].mean()\n",
    "i = data_2018['Growth'].mean()\n",
    "Growth = [a,b,c,d,e,f,g,h,i]\n",
    "Growth"
   ]
  },
  {
   "cell_type": "code",
   "execution_count": 12,
   "metadata": {},
   "outputs": [
    {
     "data": {
      "text/plain": [
       "[37.65058418631808,\n",
       " 38.02348842706766,\n",
       " 37.250020733726004,\n",
       " 37.19189880842186,\n",
       " 36.04453001761263,\n",
       " 35.08307737818428,\n",
       " 33.87813360247261,\n",
       " 33.58600802514368,\n",
       " 33.50090781182445]"
      ]
     },
     "execution_count": 12,
     "metadata": {},
     "output_type": "execute_result"
    }
   ],
   "source": [
    "a = data_2010['Top1'].mean()\n",
    "b = data_2011['Top1'].mean()\n",
    "c = data_2012['Top1'].mean()\n",
    "d = data_2013['Top1'].mean()\n",
    "e = data_2014['Top1'].mean()\n",
    "f = data_2015['Top1'].mean()\n",
    "g = data_2016['Top1'].mean()\n",
    "h = data_2017['Top1'].mean()\n",
    "i = data_2018['Top1'].mean()\n",
    "Top1 = [a,b,c,d,e,f,g,h,i]\n",
    "Top1"
   ]
  },
  {
   "cell_type": "code",
   "execution_count": 13,
   "metadata": {},
   "outputs": [
    {
     "data": {
      "text/plain": [
       "[36.70303215047977,\n",
       " 36.910259851436315,\n",
       " 37.20739454448785,\n",
       " 37.252190531336524,\n",
       " 37.01438593690409,\n",
       " 37.62345364940859,\n",
       " 37.418266197486965,\n",
       " 37.47188938805704,\n",
       " 37.43741651184363]"
      ]
     },
     "execution_count": 13,
     "metadata": {},
     "output_type": "execute_result"
    }
   ],
   "source": [
    "a = data_2010['indepent'].mean()\n",
    "b = data_2011['indepent'].mean()\n",
    "c = data_2012['indepent'].mean()\n",
    "d = data_2013['indepent'].mean()\n",
    "e = data_2014['indepent'].mean()\n",
    "f = data_2015['indepent'].mean()\n",
    "g = data_2016['indepent'].mean()\n",
    "h = data_2017['indepent'].mean()\n",
    "i = data_2018['indepent'].mean()\n",
    "indepent = [a,b,c,d,e,f,g,h,i]\n",
    "indepent"
   ]
  },
  {
   "cell_type": "code",
   "execution_count": 14,
   "metadata": {},
   "outputs": [
    {
     "data": {
      "text/plain": [
       "[6.533277020107616,\n",
       " 9.089789117006998,\n",
       " 9.713712537121646,\n",
       " 8.944840443708618,\n",
       " 8.63945366587505,\n",
       " 8.805852739586445,\n",
       " 9.464586085077071,\n",
       " 10.128199797492798,\n",
       " 10.012569314976707]"
      ]
     },
     "execution_count": 14,
     "metadata": {},
     "output_type": "execute_result"
    }
   ],
   "source": [
    "a = data_2010['MH'].mean()\n",
    "b = data_2011['MH'].mean()\n",
    "c = data_2012['MH'].mean()\n",
    "d = data_2013['MH'].mean()\n",
    "e = data_2014['MH'].mean()\n",
    "f = data_2015['MH'].mean()\n",
    "g = data_2016['MH'].mean()\n",
    "h = data_2017['MH'].mean()\n",
    "i = data_2018['MH'].mean()\n",
    "MH = [a,b,c,d,e,f,g,h,i]\n",
    "MH"
   ]
  },
  {
   "cell_type": "code",
   "execution_count": 15,
   "metadata": {},
   "outputs": [
    {
     "data": {
      "text/plain": [
       "[0.20042643923240938,\n",
       " 0.22342342342342342,\n",
       " 0.22820919175911253,\n",
       " 0.20933734939759036,\n",
       " 0.24092009685230023,\n",
       " 0.267384916748286,\n",
       " 0.2675324675324675,\n",
       " 0.2949101796407186,\n",
       " 0.28760226557583385]"
      ]
     },
     "execution_count": 15,
     "metadata": {},
     "output_type": "execute_result"
    }
   ],
   "source": [
    "a = data_2010['Dual'].mean()\n",
    "b = data_2011['Dual'].mean()\n",
    "c = data_2012['Dual'].mean()\n",
    "d = data_2013['Dual'].mean()\n",
    "e = data_2014['Dual'].mean()\n",
    "f = data_2015['Dual'].mean()\n",
    "g = data_2016['Dual'].mean()\n",
    "h = data_2017['Dual'].mean()\n",
    "i = data_2018['Dual'].mean()\n",
    "Dual = [a,b,c,d,e,f,g,h,i]\n",
    "Dual"
   ]
  },
  {
   "cell_type": "code",
   "execution_count": 16,
   "metadata": {},
   "outputs": [
    {
     "data": {
      "text/plain": [
       "[0.5522388059701493,\n",
       " 0.4954954954954955,\n",
       " 0.4675118858954041,\n",
       " 0.4623493975903614,\n",
       " 0.41404358353510895,\n",
       " 0.3829578844270323,\n",
       " 0.34805194805194806,\n",
       " 0.3188622754491018,\n",
       " 0.30459408432976715]"
      ]
     },
     "execution_count": 16,
     "metadata": {},
     "output_type": "execute_result"
    }
   ],
   "source": [
    "a = data_2010['SOE'].mean()\n",
    "b = data_2011['SOE'].mean()\n",
    "c = data_2012['SOE'].mean()\n",
    "d = data_2013['SOE'].mean()\n",
    "e = data_2014['SOE'].mean()\n",
    "f = data_2015['SOE'].mean()\n",
    "g = data_2016['SOE'].mean()\n",
    "h = data_2017['SOE'].mean()\n",
    "i = data_2018['SOE'].mean()\n",
    "SOE = [a,b,c,d,e,f,g,h,i]\n",
    "SOE"
   ]
  },
  {
   "cell_type": "code",
   "execution_count": 20,
   "metadata": {},
   "outputs": [
    {
     "data": {
      "text/html": [
       "<div>\n",
       "<style scoped>\n",
       "    .dataframe tbody tr th:only-of-type {\n",
       "        vertical-align: middle;\n",
       "    }\n",
       "\n",
       "    .dataframe tbody tr th {\n",
       "        vertical-align: top;\n",
       "    }\n",
       "\n",
       "    .dataframe thead th {\n",
       "        text-align: right;\n",
       "    }\n",
       "</style>\n",
       "<table border=\"1\" class=\"dataframe\">\n",
       "  <thead>\n",
       "    <tr style=\"text-align: right;\">\n",
       "      <th></th>\n",
       "      <th>0</th>\n",
       "      <th>1</th>\n",
       "      <th>2</th>\n",
       "      <th>3</th>\n",
       "      <th>4</th>\n",
       "      <th>5</th>\n",
       "      <th>6</th>\n",
       "      <th>7</th>\n",
       "      <th>8</th>\n",
       "    </tr>\n",
       "  </thead>\n",
       "  <tbody>\n",
       "    <tr>\n",
       "      <th>0</th>\n",
       "      <td>12.554328</td>\n",
       "      <td>12.660683</td>\n",
       "      <td>12.717972</td>\n",
       "      <td>12.752285</td>\n",
       "      <td>12.829230</td>\n",
       "      <td>12.881357</td>\n",
       "      <td>12.950545</td>\n",
       "      <td>13.027656</td>\n",
       "      <td>13.121709</td>\n",
       "    </tr>\n",
       "    <tr>\n",
       "      <th>1</th>\n",
       "      <td>11.087559</td>\n",
       "      <td>11.201427</td>\n",
       "      <td>11.260017</td>\n",
       "      <td>11.328703</td>\n",
       "      <td>11.433213</td>\n",
       "      <td>11.476165</td>\n",
       "      <td>11.560591</td>\n",
       "      <td>11.647032</td>\n",
       "      <td>11.740554</td>\n",
       "    </tr>\n",
       "    <tr>\n",
       "      <th>2</th>\n",
       "      <td>1.466769</td>\n",
       "      <td>1.459256</td>\n",
       "      <td>1.457956</td>\n",
       "      <td>1.423582</td>\n",
       "      <td>1.396018</td>\n",
       "      <td>1.405192</td>\n",
       "      <td>1.389954</td>\n",
       "      <td>1.380624</td>\n",
       "      <td>1.381155</td>\n",
       "    </tr>\n",
       "    <tr>\n",
       "      <th>3</th>\n",
       "      <td>0.170914</td>\n",
       "      <td>0.174770</td>\n",
       "      <td>0.195472</td>\n",
       "      <td>0.174751</td>\n",
       "      <td>0.541362</td>\n",
       "      <td>0.177544</td>\n",
       "      <td>0.157253</td>\n",
       "      <td>0.109466</td>\n",
       "      <td>0.159885</td>\n",
       "    </tr>\n",
       "    <tr>\n",
       "      <th>4</th>\n",
       "      <td>22.255714</td>\n",
       "      <td>22.316009</td>\n",
       "      <td>22.366236</td>\n",
       "      <td>22.460079</td>\n",
       "      <td>22.476609</td>\n",
       "      <td>22.539650</td>\n",
       "      <td>22.630645</td>\n",
       "      <td>22.636245</td>\n",
       "      <td>22.633403</td>\n",
       "    </tr>\n",
       "    <tr>\n",
       "      <th>5</th>\n",
       "      <td>0.041398</td>\n",
       "      <td>0.025356</td>\n",
       "      <td>0.046935</td>\n",
       "      <td>0.036618</td>\n",
       "      <td>0.039883</td>\n",
       "      <td>0.047548</td>\n",
       "      <td>0.048512</td>\n",
       "      <td>0.038163</td>\n",
       "      <td>0.051001</td>\n",
       "    </tr>\n",
       "    <tr>\n",
       "      <th>6</th>\n",
       "      <td>0.468134</td>\n",
       "      <td>0.461460</td>\n",
       "      <td>0.472659</td>\n",
       "      <td>0.476433</td>\n",
       "      <td>0.466123</td>\n",
       "      <td>0.452797</td>\n",
       "      <td>0.433096</td>\n",
       "      <td>0.432523</td>\n",
       "      <td>0.443221</td>\n",
       "    </tr>\n",
       "    <tr>\n",
       "      <th>7</th>\n",
       "      <td>0.330798</td>\n",
       "      <td>0.224353</td>\n",
       "      <td>0.134909</td>\n",
       "      <td>0.157509</td>\n",
       "      <td>0.132952</td>\n",
       "      <td>0.173695</td>\n",
       "      <td>0.398576</td>\n",
       "      <td>0.341295</td>\n",
       "      <td>0.219225</td>\n",
       "    </tr>\n",
       "    <tr>\n",
       "      <th>8</th>\n",
       "      <td>37.650584</td>\n",
       "      <td>38.023488</td>\n",
       "      <td>37.250021</td>\n",
       "      <td>37.191899</td>\n",
       "      <td>36.044530</td>\n",
       "      <td>35.083077</td>\n",
       "      <td>33.878134</td>\n",
       "      <td>33.586008</td>\n",
       "      <td>33.500908</td>\n",
       "    </tr>\n",
       "    <tr>\n",
       "      <th>9</th>\n",
       "      <td>36.703032</td>\n",
       "      <td>36.910260</td>\n",
       "      <td>37.207395</td>\n",
       "      <td>37.252191</td>\n",
       "      <td>37.014386</td>\n",
       "      <td>37.623454</td>\n",
       "      <td>37.418266</td>\n",
       "      <td>37.471889</td>\n",
       "      <td>37.437417</td>\n",
       "    </tr>\n",
       "    <tr>\n",
       "      <th>10</th>\n",
       "      <td>6.533277</td>\n",
       "      <td>9.089789</td>\n",
       "      <td>9.713713</td>\n",
       "      <td>8.944840</td>\n",
       "      <td>8.639454</td>\n",
       "      <td>8.805853</td>\n",
       "      <td>9.464586</td>\n",
       "      <td>10.128200</td>\n",
       "      <td>10.012569</td>\n",
       "    </tr>\n",
       "    <tr>\n",
       "      <th>11</th>\n",
       "      <td>0.200426</td>\n",
       "      <td>0.223423</td>\n",
       "      <td>0.228209</td>\n",
       "      <td>0.209337</td>\n",
       "      <td>0.240920</td>\n",
       "      <td>0.267385</td>\n",
       "      <td>0.267532</td>\n",
       "      <td>0.294910</td>\n",
       "      <td>0.287602</td>\n",
       "    </tr>\n",
       "    <tr>\n",
       "      <th>12</th>\n",
       "      <td>0.552239</td>\n",
       "      <td>0.495495</td>\n",
       "      <td>0.467512</td>\n",
       "      <td>0.462349</td>\n",
       "      <td>0.414044</td>\n",
       "      <td>0.382958</td>\n",
       "      <td>0.348052</td>\n",
       "      <td>0.318862</td>\n",
       "      <td>0.304594</td>\n",
       "    </tr>\n",
       "  </tbody>\n",
       "</table>\n",
       "</div>"
      ],
      "text/plain": [
       "            0          1          2          3          4          5  \\\n",
       "0   12.554328  12.660683  12.717972  12.752285  12.829230  12.881357   \n",
       "1   11.087559  11.201427  11.260017  11.328703  11.433213  11.476165   \n",
       "2    1.466769   1.459256   1.457956   1.423582   1.396018   1.405192   \n",
       "3    0.170914   0.174770   0.195472   0.174751   0.541362   0.177544   \n",
       "4   22.255714  22.316009  22.366236  22.460079  22.476609  22.539650   \n",
       "5    0.041398   0.025356   0.046935   0.036618   0.039883   0.047548   \n",
       "6    0.468134   0.461460   0.472659   0.476433   0.466123   0.452797   \n",
       "7    0.330798   0.224353   0.134909   0.157509   0.132952   0.173695   \n",
       "8   37.650584  38.023488  37.250021  37.191899  36.044530  35.083077   \n",
       "9   36.703032  36.910260  37.207395  37.252191  37.014386  37.623454   \n",
       "10   6.533277   9.089789   9.713713   8.944840   8.639454   8.805853   \n",
       "11   0.200426   0.223423   0.228209   0.209337   0.240920   0.267385   \n",
       "12   0.552239   0.495495   0.467512   0.462349   0.414044   0.382958   \n",
       "\n",
       "            6          7          8  \n",
       "0   12.950545  13.027656  13.121709  \n",
       "1   11.560591  11.647032  11.740554  \n",
       "2    1.389954   1.380624   1.381155  \n",
       "3    0.157253   0.109466   0.159885  \n",
       "4   22.630645  22.636245  22.633403  \n",
       "5    0.048512   0.038163   0.051001  \n",
       "6    0.433096   0.432523   0.443221  \n",
       "7    0.398576   0.341295   0.219225  \n",
       "8   33.878134  33.586008  33.500908  \n",
       "9   37.418266  37.471889  37.437417  \n",
       "10   9.464586  10.128200  10.012569  \n",
       "11   0.267532   0.294910   0.287602  \n",
       "12   0.348052   0.318862   0.304594  "
      ]
     },
     "execution_count": 20,
     "metadata": {},
     "output_type": "execute_result"
    }
   ],
   "source": [
    "lst = [lnAMW, lnAEW, lnWFI, ETR, lnSize, OCF, Lev, Growth, Top1, indepent, MH, Dual,SOE]\n",
    "arr = np.array(lst)\n",
    "df = pd.DataFrame(arr)\n",
    "df"
   ]
  },
  {
   "cell_type": "code",
   "execution_count": null,
   "metadata": {},
   "outputs": [],
   "source": []
  }
 ],
 "metadata": {
  "interpreter": {
   "hash": "bbee7842ce8ba476870a006d5d5b68f11cea175afb0fea017b7f81beccf88892"
  },
  "kernelspec": {
   "display_name": "Python 3.9.7 64-bit",
   "language": "python",
   "name": "python3"
  },
  "language_info": {
   "codemirror_mode": {
    "name": "ipython",
    "version": 3
   },
   "file_extension": ".py",
   "mimetype": "text/x-python",
   "name": "python",
   "nbconvert_exporter": "python",
   "pygments_lexer": "ipython3",
   "version": "3.9.7"
  },
  "orig_nbformat": 4
 },
 "nbformat": 4,
 "nbformat_minor": 2
}
